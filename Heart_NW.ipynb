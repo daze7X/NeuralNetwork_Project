{
 "cells": [
  {
   "cell_type": "code",
   "execution_count": 3,
   "id": "299f6863-5244-4427-862c-09bc594be9d6",
   "metadata": {},
   "outputs": [],
   "source": [
    "import numpy as np\n",
    "from numpy import loadtxt\n"
   ]
  },
  {
   "cell_type": "code",
   "execution_count": 16,
   "id": "7eb4b3d6-c13e-4f9a-a747-303b186fa257",
   "metadata": {},
   "outputs": [
    {
     "name": "stdout",
     "output_type": "stream",
     "text": [
      "Train Data:\n",
      " [[ 63.    1.    3.  145.  233.    1.    0.  150.    0.    2.3   0.    0.\n",
      "    1.    1. ]\n",
      " [ 37.    1.    2.  130.  250.    0.    1.  187.    0.    3.5   0.    0.\n",
      "    2.    1. ]\n",
      " [ 41.    0.    1.  130.  204.    0.    0.  172.    0.    1.4   2.    0.\n",
      "    2.    1. ]\n",
      " [ 56.    1.    1.  120.  236.    0.    1.  178.    0.    0.8   2.    0.\n",
      "    2.    1. ]\n",
      " [ 57.    0.    0.  120.  354.    0.    1.  163.    1.    0.6   2.    0.\n",
      "    2.    1. ]]\n"
     ]
    }
   ],
   "source": [
    "train_data = np.loadtxt('train.csv', delimiter=',')\n",
    "print(\"Train Data:\\n\", train_data[:5])"
   ]
  },
  {
   "cell_type": "code",
   "execution_count": 17,
   "id": "2c0be963-33a4-4379-906c-a7c0cfd662b4",
   "metadata": {},
   "outputs": [
    {
     "name": "stdout",
     "output_type": "stream",
     "text": [
      "X_train shape: (13, 100)\n",
      "y_train shape: (1, 100)\n"
     ]
    }
   ],
   "source": [
    "# Pisahkan fitur dan label pada data training\n",
    "X_train = train_data[:, :-1]  # Semua kolom kecuali kolom terakhir (fitur)\n",
    "y_train = train_data[:, -1]   # Kolom terakhir (label)\n",
    "\n",
    "# Transpose X_train untuk memudahkan perhitungan\n",
    "X_train = X_train.T\n",
    "y_train = y_train.reshape((1, -1))  # Ubah y_train menjadi bentuk (1, jumlah sampel)\n",
    "\n",
    "# Periksa bentuk data\n",
    "print(\"X_train shape:\", X_train.shape)\n",
    "print(\"y_train shape:\", y_train.shape)"
   ]
  },
  {
   "cell_type": "code",
   "execution_count": 18,
   "id": "cd82314e-a7a6-4464-b494-c9ee49dba042",
   "metadata": {},
   "outputs": [],
   "source": [
    "# Bobot dan bias untuk input layer ke hidden layer 1 (13 fitur ke 20 neuron)\n",
    "w1 = np.random.rand(20, 13)\n",
    "b1 = np.zeros((20, 1))\n",
    "\n",
    "# Bobot dan bias untuk hidden layer 1 ke hidden layer 2 (20 neuron ke 10 neuron)\n",
    "w2 = np.random.rand(10, 20)\n",
    "b2 = np.zeros((10, 1))\n",
    "\n",
    "# Bobot dan bias untuk hidden layer 2 ke output layer (10 neuron ke 1 output)\n",
    "w3 = np.random.rand(1, 10)\n",
    "b3 = np.zeros((1, 1))"
   ]
  },
  {
   "cell_type": "code",
   "execution_count": 19,
   "id": "897db5c4-5afe-458e-a151-850b673e1abb",
   "metadata": {},
   "outputs": [],
   "source": [
    "def sigmoid(z):\n",
    "    return 1 / (1 + np.exp(-z))"
   ]
  },
  {
   "cell_type": "code",
   "execution_count": 20,
   "id": "5968420a-6ee0-41bc-8d2a-09381fb3b580",
   "metadata": {},
   "outputs": [
    {
     "name": "stdout",
     "output_type": "stream",
     "text": [
      "Iteration 0, Loss: 0.02997365448513742\n",
      "Iteration 100, Loss: 0.029043779631528713\n",
      "Iteration 200, Loss: 0.028169106711193614\n",
      "Iteration 300, Loss: 0.02734490388679689\n",
      "Iteration 400, Loss: 0.026566961700493538\n",
      "Iteration 500, Loss: 0.02583152328140454\n",
      "Iteration 600, Loss: 0.025135225405791495\n",
      "Iteration 700, Loss: 0.02447504849761793\n",
      "Iteration 800, Loss: 0.02384827403167348\n",
      "Iteration 900, Loss: 0.02325244809561714\n",
      "Iteration 1000, Loss: 0.022685350099794915\n",
      "Iteration 1100, Loss: 0.022144965808545077\n",
      "Iteration 1200, Loss: 0.02162946401446153\n",
      "Iteration 1300, Loss: 0.021137176295859494\n",
      "Iteration 1400, Loss: 0.0206665793936173\n",
      "Iteration 1500, Loss: 0.020216279821426045\n",
      "Iteration 1600, Loss: 0.019785000386986086\n",
      "Iteration 1700, Loss: 0.01937156835368853\n",
      "Iteration 1800, Loss: 0.018974905015095217\n",
      "Iteration 1900, Loss: 0.018594016489866777\n",
      "Training selesai.\n"
     ]
    }
   ],
   "source": [
    "# Inisialisasi learning rate\n",
    "learning_rate = 0.001\n",
    "\n",
    "# Training loop\n",
    "for i in range(2000):\n",
    "    # Layer input ke hidden layer 1\n",
    "    z1 = np.dot(w1, X_train) + b1  # (20, 13) * (13, 100) -> (20, 100)\n",
    "    a1 = sigmoid(z1)  # Output layer 1 (20, 100)\n",
    "\n",
    "    # Hidden layer 1 ke hidden layer 2\n",
    "    z2 = np.dot(w2, a1) + b2  # (10, 20) * (20, 100) -> (10, 100)\n",
    "    a2 = sigmoid(z2)  # Output layer 2 (10, 100)\n",
    "\n",
    "    # Hidden layer 2 ke output layer\n",
    "    z3 = np.dot(w3, a2) + b3  # (1, 10) * (10, 100) -> (1, 100)\n",
    "    a3 = sigmoid(z3)  # Output layer (1, 100)\n",
    "\n",
    "    # Prediksi (output)\n",
    "    yhat = a3\n",
    "\n",
    "    # Loss function (Binary Cross-Entropy Loss)\n",
    "    L = -y_train * np.log(yhat) - (1 - y_train) * np.log(1 - yhat)\n",
    "    m = y_train.shape[1]  # Jumlah sampel\n",
    "    J = (1 / m) * np.sum(L)\n",
    "\n",
    "    # Backpropagation\n",
    "    dz3 = a3 - y_train  # (1, 100)\n",
    "\n",
    "    # Gradien error di hidden layer 2\n",
    "    dz2 = np.dot(w3.T, dz3) * a2 * (1 - a2)  # (10, 100)\n",
    "\n",
    "    # Gradien error di hidden layer 1\n",
    "    dz1 = np.dot(w2.T, dz2) * a1 * (1 - a1)  # (20, 100)\n",
    "\n",
    "    # Update bobot dan bias\n",
    "    w3 -= learning_rate * np.dot(dz3, a2.T) / m  # (1, 100) * (100, 10) -> (1, 10)\n",
    "    b3 -= learning_rate * np.sum(dz3, axis=1, keepdims=True) / m  # (1, 1)\n",
    "\n",
    "    w2 -= learning_rate * np.dot(dz2, a1.T) / m  # (10, 100) * (100, 20) -> (10, 20)\n",
    "    b2 -= learning_rate * np.sum(dz2, axis=1, keepdims=True) / m  # (10, 1)\n",
    "\n",
    "    w1 -= learning_rate * np.dot(dz1, X_train.T) / m  # (20, 100) * (100, 13) -> (20, 13)\n",
    "    b1 -= learning_rate * np.sum(dz1, axis=1, keepdims=True) / m  # (20, 1)\n",
    "\n",
    "    # Print loss setiap 100 iterasi\n",
    "    if i % 100 == 0:\n",
    "        print(f\"Iteration {i}, Loss: {J}\")\n",
    "\n",
    "# Print hasil setelah training selesai\n",
    "print(\"Training selesai.\")"
   ]
  },
  {
   "cell_type": "code",
   "execution_count": 21,
   "id": "ab402b8c-0c71-4034-ae24-43d1bc06969b",
   "metadata": {},
   "outputs": [
    {
     "data": {
      "text/plain": [
       "array([[0.98193361, 0.98193361, 0.98193361, 0.98193361, 0.98193361,\n",
       "        0.98193361, 0.98193361, 0.98193361, 0.98193361, 0.98193361,\n",
       "        0.98193361, 0.98193361, 0.98193361, 0.98193361, 0.98193361,\n",
       "        0.98193361, 0.98193361, 0.98193361, 0.98193361, 0.98193361,\n",
       "        0.98193361, 0.98193361, 0.98193361, 0.98193361, 0.98193361,\n",
       "        0.98193361, 0.98193361, 0.98193361, 0.98193361, 0.98193361,\n",
       "        0.98193361, 0.98193361, 0.98193361, 0.98193361, 0.98193361,\n",
       "        0.98193361, 0.98193361, 0.98193361, 0.98193361, 0.98193361,\n",
       "        0.98193361, 0.98193361, 0.98193361, 0.98193361, 0.98193361,\n",
       "        0.98193361, 0.98193361, 0.98193361, 0.98193361, 0.98193361,\n",
       "        0.98193361, 0.98193361, 0.98193361, 0.98193361, 0.98193361,\n",
       "        0.98193361, 0.98193361, 0.98193361, 0.98193361, 0.98193361,\n",
       "        0.98193361, 0.98193361, 0.98193361, 0.98193361, 0.98193361,\n",
       "        0.98193361, 0.98193361, 0.98193361, 0.98193361, 0.98193361,\n",
       "        0.98193361, 0.98193361, 0.98193361, 0.98193361, 0.98193361,\n",
       "        0.98193361, 0.98193361, 0.98193361, 0.98193361, 0.98193361,\n",
       "        0.98193361, 0.98193361, 0.98193361, 0.98193361, 0.98193361,\n",
       "        0.98193361, 0.98193361, 0.98193361, 0.98193361, 0.98193361,\n",
       "        0.98193361, 0.98193361, 0.98193361, 0.98193361, 0.98193361,\n",
       "        0.98193361, 0.98193361, 0.98193361, 0.98193361, 0.98193361]])"
      ]
     },
     "execution_count": 21,
     "metadata": {},
     "output_type": "execute_result"
    }
   ],
   "source": [
    "a3\n"
   ]
  },
  {
   "cell_type": "code",
   "execution_count": 23,
   "id": "2c243893-d72c-4761-89cb-8f4a9cf1ff39",
   "metadata": {},
   "outputs": [
    {
     "name": "stdout",
     "output_type": "stream",
     "text": [
      "X_test shape: (25, 13)\n",
      "y_test shape: (1, 25)\n"
     ]
    }
   ],
   "source": [
    "# Muat data uji\n",
    "test_data = np.loadtxt('test.csv', delimiter=',')\n",
    "\n",
    "# Pisahkan fitur dan label pada data test\n",
    "X_test = test_data[:, :-1]  # Semua kolom kecuali kolom terakhir (fitur)\n",
    "y_test = test_data[:, -1]   # Kolom terakhir (label)\n",
    "\n",
    "# Ubah bentuk y_test agar sesuai dengan dimensi yang diharapkan\n",
    "y_test = y_test.reshape((-1, 1)).T  # (1, jumlah sampel)\n",
    "\n",
    "# Periksa bentuk data test\n",
    "print(\"X_test shape:\", X_test.shape)\n",
    "print(\"y_test shape:\", y_test.shape)\n"
   ]
  },
  {
   "cell_type": "code",
   "execution_count": 25,
   "id": "42f1fa68-97d9-4e8c-a174-fef27d6ed613",
   "metadata": {},
   "outputs": [
    {
     "name": "stdout",
     "output_type": "stream",
     "text": [
      "Loss pada data uji: 0.018227985574069787\n",
      "Akurasi pada data uji: 1.0\n"
     ]
    }
   ],
   "source": [
    "# Pastikan X_test memiliki bentuk (jumlah fitur, jumlah sampel)\n",
    "X_test = X_test.T  # Transpose jika bentuknya (jumlah sampel, jumlah fitur)\n",
    "\n",
    "# Lakukan forward pass pada data uji\n",
    "z1_test = np.dot(w1, X_test) + b1  # (20, 13) * (13, 25) -> (20, 25)\n",
    "a1_test = sigmoid(z1_test)  # Output layer 1 (20, 25)\n",
    "\n",
    "z2_test = np.dot(w2, a1_test) + b2  # (10, 20) * (20, 25) -> (10, 25)\n",
    "a2_test = sigmoid(z2_test)  # Output layer 2 (10, 25)\n",
    "\n",
    "z3_test = np.dot(w3, a2_test) + b3  # (1, 10) * (10, 25) -> (1, 25)\n",
    "a3_test = sigmoid(z3_test)  # Output layer (1, 25)\n",
    "\n",
    "# Prediksi (output)\n",
    "yhat_test = a3_test\n",
    "\n",
    "# Hitung loss pada data uji (Binary Cross-Entropy Loss)\n",
    "L_test = -y_test * np.log(yhat_test) - (1 - y_test) * np.log(1 - yhat_test)\n",
    "m_test = y_test.shape[1]  # Jumlah sampel uji\n",
    "J_test = (1 / m_test) * np.sum(L_test)\n",
    "\n",
    "print(\"Loss pada data uji:\", J_test)\n",
    "\n",
    "# Evaluasi akurasi (bila digunakan threshold 0.5 untuk binary classification)\n",
    "predictions = (yhat_test > 0.5).astype(int)  # Prediksi berdasarkan threshold 0.5\n",
    "accuracy = np.mean(predictions == y_test)  # Hitung akurasi\n",
    "\n",
    "print(\"Akurasi pada data uji:\", accuracy)\n",
    "\n"
   ]
  },
  {
   "cell_type": "code",
   "execution_count": null,
   "id": "72bf3690-0cff-4c94-9dd2-26c08d2af76d",
   "metadata": {},
   "outputs": [],
   "source": []
  }
 ],
 "metadata": {
  "kernelspec": {
   "display_name": "Python 3 (ipykernel)",
   "language": "python",
   "name": "python3"
  },
  "language_info": {
   "codemirror_mode": {
    "name": "ipython",
    "version": 3
   },
   "file_extension": ".py",
   "mimetype": "text/x-python",
   "name": "python",
   "nbconvert_exporter": "python",
   "pygments_lexer": "ipython3",
   "version": "3.12.6"
  }
 },
 "nbformat": 4,
 "nbformat_minor": 5
}
