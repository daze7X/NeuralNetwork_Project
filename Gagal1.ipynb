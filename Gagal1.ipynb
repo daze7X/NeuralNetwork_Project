{
 "cells": [
  {
   "cell_type": "code",
   "execution_count": 16,
   "id": "f3b9dc8c-ddb6-41e4-90c6-821f1713ccc9",
   "metadata": {},
   "outputs": [],
   "source": [
    "import numpy as np\n",
    "from numpy import loadtxt"
   ]
  },
  {
   "cell_type": "code",
   "execution_count": 34,
   "id": "63f6f827-cdf0-4aa0-b66a-b0ebd2d83498",
   "metadata": {},
   "outputs": [
    {
     "name": "stdout",
     "output_type": "stream",
     "text": [
      "Train Data:\n",
      " [[63.  1.  3. ...  0.  1.  1.]\n",
      " [37.  1.  2. ...  0.  2.  1.]\n",
      " [41.  0.  1. ...  0.  2.  1.]\n",
      " ...\n",
      " [52.  1.  0. ...  3.  3.  1.]\n",
      " [43.  1.  2. ...  1.  2.  1.]\n",
      " [53.  1.  2. ...  3.  2.  1.]]\n",
      "Test Data:\n",
      " [[ 42.    1.    3.  148.  244.    0.    0.  178.    0.    0.8   2.    2.\n",
      "    2.    1. ]\n",
      " [ 59.    1.    3.  178.  270.    0.    0.  145.    0.    4.2   0.    0.\n",
      "    3.    1. ]\n",
      " [ 63.    0.    1.  140.  195.    0.    1.  179.    0.    0.    2.    2.\n",
      "    2.    1. ]\n",
      " [ 42.    1.    2.  120.  240.    1.    1.  194.    0.    0.8   0.    0.\n",
      "    3.    1. ]\n",
      " [ 50.    1.    2.  129.  196.    0.    1.  163.    0.    0.    2.    0.\n",
      "    2.    1. ]]\n"
     ]
    }
   ],
   "source": [
    "train_data = np.loadtxt('train.csv', delimiter=',')\n",
    "test_data = np.loadtxt('test.csv', delimiter=',')\n",
    "print(\"Train Data:\\n\", train_data[:100])\n",
    "print(\"Test Data:\\n\", test_data[:5])"
   ]
  },
  {
   "cell_type": "code",
   "execution_count": 82,
   "id": "ca42efdd-de57-4c98-a3ad-73d1a619227c",
   "metadata": {},
   "outputs": [
    {
     "name": "stdout",
     "output_type": "stream",
     "text": [
      "X_train shape: (13, 100)\n",
      "y_train shape: (1, 100)\n",
      "X_test shape: (13, 25)\n",
      "y_test shape: (25, 1)\n"
     ]
    }
   ],
   "source": [
    "# Pisahkan fitur dan label pada data training\n",
    "X_train = train_data[:, :-1]  # Semua kolom kecuali kolom terakhir (fitur)\n",
    "y_train = train_data[:, -1]   # Kolom terakhir (label)\n",
    "\n",
    "# Pisahkan fitur dan label pada data test\n",
    "X_test = test_data[:, :-1]  # Semua kolom kecuali kolom terakhir (fitur)\n",
    "y_test = test_data[:, -1]   # Kolom terakhir (label)\n",
    "\n",
    "X_train=X_train.T\n",
    "y_train = y_train.reshape((-1,1))\n",
    "y_train=y_train.T\n",
    "\n",
    "\n",
    "X_test = X_test.T\n",
    "y_test = y_test.reshape((-1, 1))\n",
    "\n",
    "# Periksa bentuk data\n",
    "print(\"X_train shape:\", X_train.shape)\n",
    "print(\"y_train shape:\", y_train.shape)\n",
    "print(\"X_test shape:\", X_test.shape)\n",
    "print(\"y_test shape:\", y_test.shape)\n"
   ]
  },
  {
   "cell_type": "code",
   "execution_count": 83,
   "id": "2122c322-ceb1-4a54-8996-7b109ccf7146",
   "metadata": {},
   "outputs": [],
   "source": [
    "# Bobot dan bias untuk input layer ke hidden layer 1 (13 fitur ke 20 neuron)\n",
    "w1 = np.random.rand(13, 20)\n",
    "b1 = np.zeros((1, 20))\n",
    "\n",
    "# Bobot dan bias untuk hidden layer 1 ke hidden layer 2 (20 neuron ke 10 neuron)\n",
    "w2 = np.random.rand(20, 10)\n",
    "b2 = np.zeros((1, 10))\n",
    "\n",
    "# Bobot dan bias untuk hidden layer 2 ke output layer (10 neuron ke 1 output)\n",
    "w3 = np.random.rand(10, 1)\n",
    "b3 = np.zeros((1, 1))\n"
   ]
  },
  {
   "cell_type": "code",
   "execution_count": 84,
   "id": "bddf2584-8f82-4986-836c-c7ee16b0ce43",
   "metadata": {},
   "outputs": [],
   "source": [
    "def sigmoid(z):\n",
    "    return 1 / (1 + np.exp(-z))"
   ]
  },
  {
   "cell_type": "code",
   "execution_count": 85,
   "id": "0c2e902e-3bff-4ab8-872b-fdfa024a0734",
   "metadata": {},
   "outputs": [],
   "source": [
    "a0 = X_train.T\n",
    "learningrate = 0.001\n",
    "\n",
    "for i in range(2000):\n",
    "    # Layer input ke hidden layer 1\n",
    "    z1 = np.dot(a0, w1) + b1  # Menggunakan a0 (100, 13) * w1 (13, 20) -> z1 (100, 20)\n",
    "    a1 = sigmoid(z1)  # Output layer 1 (100, 20)\n",
    "\n",
    "    z2 = np.dot(a1, w2) + b2  # a1 (100, 20) * w2 (20, 10) -> z2 (100, 10)\n",
    "    a2 = sigmoid(z2)  # Output layer 2 (100, 10)\n",
    "\n",
    "    z3 = np.dot(a2, w3) + b3  # a2 (100, 10) * w3 (10, 1) -> z3 (100, 1)\n",
    "    a3 = sigmoid(z3)  # Output layer (100, 1)\n",
    "\n",
    "    yhat = a3\n",
    "    "
   ]
  },
  {
   "cell_type": "code",
   "execution_count": 86,
   "id": "1e0a948e-718c-4163-b37b-496b434ab21e",
   "metadata": {},
   "outputs": [],
   "source": [
    "# Fungsi loss (Binary Cross-Entropy Loss)\n",
    "L = -y_train * np.log(yhat) - (1 - y_train) * np.log(1 - yhat)\n",
    "\n",
    "# Rata-rata loss\n",
    "m = y_train.shape[0]  # Jumlah sampel\n",
    "J = (1 / m) * np.sum(L)\n"
   ]
  },
  {
   "cell_type": "code",
   "execution_count": 88,
   "id": "e38e569a-0110-4dd9-a802-45f24c9af758",
   "metadata": {},
   "outputs": [
    {
     "ename": "ValueError",
     "evalue": "shapes (1,10) and (100,1) not aligned: 10 (dim 1) != 100 (dim 0)",
     "output_type": "error",
     "traceback": [
      "\u001b[1;31m---------------------------------------------------------------------------\u001b[0m",
      "\u001b[1;31mValueError\u001b[0m                                Traceback (most recent call last)",
      "Cell \u001b[1;32mIn[88], line 8\u001b[0m\n\u001b[0;32m      5\u001b[0m dz3 \u001b[38;5;241m=\u001b[39m a3 \u001b[38;5;241m-\u001b[39m y_train\u001b[38;5;241m.\u001b[39mT  \u001b[38;5;66;03m# (1, 100)\u001b[39;00m\n\u001b[0;32m      7\u001b[0m \u001b[38;5;66;03m# Gradien error di hidden layer 2\u001b[39;00m\n\u001b[1;32m----> 8\u001b[0m dz2 \u001b[38;5;241m=\u001b[39m \u001b[43mnp\u001b[49m\u001b[38;5;241;43m.\u001b[39;49m\u001b[43mdot\u001b[49m\u001b[43m(\u001b[49m\u001b[43mw3\u001b[49m\u001b[38;5;241;43m.\u001b[39;49m\u001b[43mT\u001b[49m\u001b[43m,\u001b[49m\u001b[43m \u001b[49m\u001b[43mdz3\u001b[49m\u001b[43m)\u001b[49m \u001b[38;5;241m*\u001b[39m a2 \u001b[38;5;241m*\u001b[39m (\u001b[38;5;241m1\u001b[39m \u001b[38;5;241m-\u001b[39m a2)  \u001b[38;5;66;03m# (10, 100)\u001b[39;00m\n\u001b[0;32m     10\u001b[0m \u001b[38;5;66;03m# Gradien error di hidden layer 1\u001b[39;00m\n\u001b[0;32m     11\u001b[0m dz1 \u001b[38;5;241m=\u001b[39m np\u001b[38;5;241m.\u001b[39mdot(w2\u001b[38;5;241m.\u001b[39mT, dz2) \u001b[38;5;241m*\u001b[39m a1 \u001b[38;5;241m*\u001b[39m (\u001b[38;5;241m1\u001b[39m \u001b[38;5;241m-\u001b[39m a1)  \u001b[38;5;66;03m# (20, 100)\u001b[39;00m\n",
      "\u001b[1;31mValueError\u001b[0m: shapes (1,10) and (100,1) not aligned: 10 (dim 1) != 100 (dim 0)"
     ]
    }
   ],
   "source": [
    "# Backpropagation\n",
    "m = y_train.shape[1]  # Jumlah sampel\n",
    "\n",
    "# Gradien error di output layer\n",
    "dz3 = a3 - y_train.T  # (1, 100)\n",
    "\n",
    "# Gradien error di hidden layer 2\n",
    "dz2 = np.dot(w3.T, dz3) * a2 * (1 - a2)  # (10, 100)\n",
    "\n",
    "# Gradien error di hidden layer 1\n",
    "dz1 = np.dot(w2.T, dz2) * a1 * (1 - a1)  # (20, 100)\n",
    "\n",
    "# Update bobot dan bias\n",
    "w3 -= learning_rate * np.dot(dz3, a2.T) / m\n",
    "b3 -= learning_rate * np.sum(dz3, axis=1, keepdims=True) / m\n",
    "\n",
    "w2 -= learning_rate * np.dot(dz2, a1.T) / m\n",
    "b2 -= learning_rate * np.sum(dz2, axis=1, keepdims=True) / m\n",
    "\n",
    "w1 -= learning_rate * np.dot(dz1, a0.T) / m\n",
    "b1 -= learning_rate * np.sum(dz1, axis=1, keepdims=True) / m\n"
   ]
  },
  {
   "cell_type": "code",
   "execution_count": 80,
   "id": "8c773e95-60db-4c4f-bbb3-97e880e21c29",
   "metadata": {},
   "outputs": [
    {
     "name": "stdout",
     "output_type": "stream",
     "text": [
      "w3.T shape: (1, 10)\n",
      "dz3 shape: (1, 100)\n",
      "a2 shape: (100, 10)\n"
     ]
    }
   ],
   "source": [
    "print(\"w3.T shape:\", w3.T.shape)\n",
    "print(\"dz3 shape:\", dz3.shape)\n",
    "print(\"a2 shape:\", a2.shape)\n"
   ]
  },
  {
   "cell_type": "code",
   "execution_count": null,
   "id": "37d24be9-12dd-4733-a5cb-1e9c08c1b551",
   "metadata": {},
   "outputs": [],
   "source": []
  }
 ],
 "metadata": {
  "kernelspec": {
   "display_name": "Python 3 (ipykernel)",
   "language": "python",
   "name": "python3"
  },
  "language_info": {
   "codemirror_mode": {
    "name": "ipython",
    "version": 3
   },
   "file_extension": ".py",
   "mimetype": "text/x-python",
   "name": "python",
   "nbconvert_exporter": "python",
   "pygments_lexer": "ipython3",
   "version": "3.12.6"
  }
 },
 "nbformat": 4,
 "nbformat_minor": 5
}
